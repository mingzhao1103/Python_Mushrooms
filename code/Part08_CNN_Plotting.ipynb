{
 "cells": [
  {
   "cell_type": "markdown",
   "id": "ce78a1b4",
   "metadata": {},
   "source": [
    "confusion matrix & curves"
   ]
  },
  {
   "cell_type": "code",
   "execution_count": null,
   "id": "af5772b6",
   "metadata": {},
   "outputs": [],
   "source": [
    "# Confusion matrix and test accuracy\n",
    "# Reference: https://stackoverflow.com/questions/53290306/confusion-matrix-and-test-accuracy-for-pytorch-transfer-learning-tutorial\n",
    "\n",
    "def confusion_matrix(model_ft, nb_classes, phase=\"test\"):\n",
    "    \"\"\"\n",
    "    given a pytorch model (model_ft), calculate confusion matrix (a torch tensor object)\n",
    "\n",
    "    Arguments\n",
    "    ---------\n",
    "    model_ft:     pytorch model from torchvision\n",
    "\n",
    "    nb_classes:   number of classes\n",
    "\n",
    "    phase:        get the confusion matrix for 'test' or 'validation'\n",
    "    \"\"\"\n",
    "    nb_classes = nb_classes\n",
    "    confusion_matrix = torch.zeros(nb_classes, nb_classes)\n",
    "    with torch.no_grad():\n",
    "        for i, (inputs, classes) in enumerate(dataloaders[phase]):\n",
    "            inputs = inputs.to(device)\n",
    "            classes = classes.to(device)\n",
    "            outputs = model_ft(inputs)\n",
    "            _, preds = torch.max(outputs, 1)\n",
    "            for t, p in zip(classes.view(-1), preds.view(-1)):\n",
    "                confusion_matrix[t.long(), p.long()] += 1\n",
    "    return confusion_matrix"
   ]
  },
  {
   "cell_type": "code",
   "execution_count": null,
   "id": "8c704210",
   "metadata": {},
   "outputs": [],
   "source": [
    "# plot the confusion_matrix\n",
    "# Reference: https://stackoverflow.com/questions/39033880/plot-confusion-matrix-sklearn-with-multiple-labels\n",
    "\n",
    "def plot_confusion_matrix(cm,\n",
    "                          target_names,\n",
    "                          title='Confusion matrix',\n",
    "                          cmap=None,\n",
    "                          normalize=True):\n",
    "    \"\"\"\n",
    "    given a sklearn confusion matrix (cm), make a nice plot\n",
    "\n",
    "    Arguments\n",
    "    ---------\n",
    "    cm:           confusion matrix from sklearn.metrics.confusion_matrix\n",
    "\n",
    "    target_names: given classification classes such as [0, 1, 2, 3]\n",
    "                  the class names, for example: ['edible M', 'edible MS', 'poisonous M', 'poisonous MS']\n",
    "\n",
    "    title:        the text to display at the top of the matrix\n",
    "\n",
    "    cmap:         the gradient of the values displayed from matplotlib.pyplot.cm\n",
    "                  see http://matplotlib.org/examples/color/colormaps_reference.html\n",
    "                  plt.get_cmap('jet') or plt.cm.Blues\n",
    "\n",
    "    normalize:    If False, plot the raw numbers\n",
    "                  If True, plot the proportions\n",
    "\n",
    "    Usage\n",
    "    -----\n",
    "    plot_confusion_matrix(cm           = cm,                  # confusion matrix created by\n",
    "                                                              # sklearn.metrics.confusion_matrix\n",
    "                          normalize    = True,                # show proportions\n",
    "                          target_names = y_labels_vals,       # list of names of the classes\n",
    "                          title        = best_estimator_name) # title of graph\n",
    "\n",
    "    Citiation\n",
    "    ---------\n",
    "    http://scikit-learn.org/stable/auto_examples/model_selection/plot_confusion_matrix.html\n",
    "\n",
    "    \"\"\"\n",
    "    import matplotlib.pyplot as plt\n",
    "    import numpy as np\n",
    "    import itertools\n",
    "\n",
    "    accuracy = np.trace(cm) / float(np.sum(cm))\n",
    "    misclass = 1 - accuracy\n",
    "\n",
    "    if cmap is None:\n",
    "        cmap = plt.get_cmap('Blues')\n",
    "\n",
    "    plt.figure(figsize=(8, 6))\n",
    "    plt.imshow(cm, interpolation='nearest', cmap=cmap)\n",
    "    plt.title(title)\n",
    "    plt.colorbar()\n",
    "\n",
    "    if target_names is not None:\n",
    "        tick_marks = np.arange(len(target_names))\n",
    "        plt.xticks(tick_marks, target_names, rotation=45)\n",
    "        plt.yticks(tick_marks, target_names)\n",
    "\n",
    "    if normalize:\n",
    "        cm = cm.astype('float') / cm.sum(axis=1)[:, np.newaxis]\n",
    "\n",
    "\n",
    "    thresh = cm.max() / 1.5 if normalize else cm.max() / 2\n",
    "    for i, j in itertools.product(range(cm.shape[0]), range(cm.shape[1])):\n",
    "        if normalize:\n",
    "            plt.text(j, i, \"{:0.4f}\".format(cm[i, j]),\n",
    "                     horizontalalignment=\"center\",\n",
    "                     color=\"white\" if cm[i, j] > thresh else \"black\")\n",
    "        else:\n",
    "            plt.text(j, i, \"{:,}\".format(int(cm[i, j])),\n",
    "                     horizontalalignment=\"center\",\n",
    "                     color=\"white\" if cm[i, j] > thresh else \"black\")\n",
    "\n",
    "\n",
    "    plt.tight_layout()\n",
    "    plt.ylabel('True label')\n",
    "    plt.xlabel('Predicted label\\naccuracy={:0.4f}; misclass={:0.4f}'.format(accuracy, misclass))\n",
    "    plt.show()"
   ]
  },
  {
   "cell_type": "code",
   "execution_count": null,
   "id": "887abd0c",
   "metadata": {},
   "outputs": [],
   "source": [
    "PATH = \"entire_model_net152.pt\"\n",
    "\n",
    "# Load finetuned ResNet152 model\n",
    "model152_ft = torch.load(PATH, map_location=torch.device(device))\n",
    "model152_ft.eval()\n",
    "\n",
    "# Confusion matrix for ResNet152\n",
    "cm152 = confusion_matrix(model152_ft, 2)\n",
    "# cols are predicted labels (left to right): edible, poisonous\n",
    "# rows are true labels (left to right): edible, poisonous\n",
    "print(cm152)"
   ]
  },
  {
   "cell_type": "code",
   "execution_count": null,
   "id": "70c4db79",
   "metadata": {},
   "outputs": [],
   "source": [
    "plot_confusion_matrix(cm152.numpy(), class_names, title='Confusion matrix for ResNet152', normalize=False)"
   ]
  },
  {
   "cell_type": "code",
   "execution_count": null,
   "id": "43301f23",
   "metadata": {},
   "outputs": [],
   "source": [
    "PATH = \"entire_model_net34.pt\"\n",
    "\n",
    "# Load finetuned ResNet34 model\n",
    "model34_ft = torch.load(PATH, map_location=torch.device(device))\n",
    "model34_ft.eval()\n",
    "\n",
    "# Confusion matrix for ResNet34\n",
    "cm34 = confusion_matrix(model34_ft, 2)\n",
    "print(cm34)"
   ]
  },
  {
   "cell_type": "code",
   "execution_count": null,
   "id": "eab96d27",
   "metadata": {},
   "outputs": [],
   "source": [
    "plot_confusion_matrix(cm34.numpy(), class_names, title='Confusion matrix for ResNet34', normalize=False)"
   ]
  },
  {
   "cell_type": "code",
   "execution_count": null,
   "id": "f7208c3b",
   "metadata": {},
   "outputs": [],
   "source": [
    "PATH = \"entire_model_net18.pt\"\n",
    "\n",
    "# Load finetuned ResNet18 model\n",
    "model18_ft = torch.load(PATH, map_location=torch.device(device))\n",
    "model18_ft.eval()\n",
    "\n",
    "# Confusion matrix for ResNet18\n",
    "cm18 = confusion_matrix(model18_ft, 2)\n",
    "print(cm18)"
   ]
  },
  {
   "cell_type": "code",
   "execution_count": null,
   "id": "efb85d0a",
   "metadata": {},
   "outputs": [],
   "source": [
    "plot_confusion_matrix(cm18.numpy(), class_names, title='Confusion matrix for ResNet18', normalize=False)"
   ]
  },
  {
   "cell_type": "code",
   "execution_count": null,
   "id": "d44c80f5",
   "metadata": {},
   "outputs": [],
   "source": [
    "# get probability instead of prediction from the model\n",
    "# Reference: https://stackoverflow.com/questions/60182984/how-to-get-the-predict-probability\n",
    "\n",
    "def predict_prob(model_ft, phase=\"test\"):\n",
    "    \"\"\"\n",
    "    given a pytorch model (model_ft), calculate probability for each class assignment (a torch tensor object)\n",
    "\n",
    "    Arguments\n",
    "    ---------\n",
    "    model_ft:     pytorch model from torchvision\n",
    "\n",
    "\n",
    "    phase:        get the confusion matrix for 'test' or 'validation'\n",
    "    \"\"\"\n",
    "    import torch.nn.functional as nnf\n",
    "    prob_predict = []\n",
    "    targets = []\n",
    "\n",
    "    with torch.no_grad():\n",
    "        for i, (inputs, classes) in enumerate(dataloaders[phase]):\n",
    "            inputs = inputs.to(device)\n",
    "            classes = classes.to(device)\n",
    "            outputs = model_ft(inputs)\n",
    "            prob = nnf.softmax(outputs, dim=1)\n",
    "            prob_predict.append(prob)\n",
    "            targets.append(classes)\n",
    "\n",
    "    return torch.vstack(prob_predict), torch.hstack(targets)"
   ]
  },
  {
   "cell_type": "code",
   "execution_count": null,
   "id": "ba3abb81",
   "metadata": {},
   "outputs": [],
   "source": [
    "# get the predicted probabilities and the true labels from the test set\n",
    "resnet152_prob, y_test = predict_prob(model152_ft)\n",
    "precision_res152, recall_res152, _ = precision_recall_curve(y_test.numpy(), resnet152_prob.numpy()[:, 1])\n",
    "# area under curve\n",
    "pr_auc_res152 = auc(recall_res152, precision_res152)\n",
    "# ROC\n",
    "fpr_res152, tpr_res152, _ = roc_curve(y_test.numpy(), resnet152_prob.numpy()[:, 1])\n",
    "# area under curve\n",
    "roc_auc_res152 = auc(fpr_res152, tpr_res152)"
   ]
  },
  {
   "cell_type": "code",
   "execution_count": null,
   "id": "26c1e8ee",
   "metadata": {},
   "outputs": [],
   "source": [
    "# get the predicted probabilities and the true labels from the test set\n",
    "resnet34_prob, y_test = predict_prob(model34_ft)\n",
    "precision_res34, recall_res34, _ = precision_recall_curve(y_test.numpy(), resnet34_prob.numpy()[:, 1])\n",
    "# area under curve\n",
    "pr_auc_res34 = auc(recall_res34, precision_res34)\n",
    "# ROC\n",
    "fpr_res34, tpr_res34, _ = roc_curve(y_test.numpy(), resnet34_prob.numpy()[:, 1])\n",
    "# area under curve\n",
    "roc_auc_res34 = auc(fpr_res34, tpr_res34)"
   ]
  },
  {
   "cell_type": "code",
   "execution_count": null,
   "id": "8d57dd6b",
   "metadata": {},
   "outputs": [],
   "source": [
    "# get the predicted probabilities and the true labels from the test set\n",
    "resnet18_prob, y_test = predict_prob(model18_ft)\n",
    "precision_res18, recall_res18, _ = precision_recall_curve(y_test.numpy(), resnet18_prob.numpy()[:, 1])\n",
    "# area under curve\n",
    "pr_auc_res18 = auc(recall_res18, precision_res18)\n",
    "# ROC\n",
    "fpr_res18, tpr_res18, _ = roc_curve(y_test.numpy(), resnet18_prob.numpy()[:, 1])\n",
    "# area under curve\n",
    "roc_auc_res18 = auc(fpr_res18, tpr_res18)"
   ]
  },
  {
   "cell_type": "code",
   "execution_count": null,
   "id": "12f5b61e",
   "metadata": {},
   "outputs": [],
   "source": [
    "# PR Curve\n",
    "plt.figure(figsize=(8, 6))\n",
    "plt.plot(recall_res152, precision_res152, label=\"ResNet152 (area = {0:0.3f})\".format(pr_auc_res152))\n",
    "plt.plot(recall_res34, precision_res34, label=\"ResNet34 (area = {0:0.3f})\".format(pr_auc_res34))\n",
    "plt.plot(recall_res18, precision_res18, label=\"ResNet18 (area = {0:0.3f})\".format(pr_auc_res18))\n",
    "# plt.plot(recall_lr, precision_lr, label=\"LR\")\n",
    "plt.plot(recall_knn, precision_knn, label=\"KNN (area = {0:0.3f})\".format(pr_auc_knn))\n",
    "plt.plot(recall_rf, precision_rf, label=\"RF (area = {0:0.3f})\".format(pr_auc_rf))\n",
    "plt.axhline(0.8, color='k', linestyle='--')\n",
    "plt.axvline(0.95, color='k', linestyle='--')\n",
    "plt.xlim([0.0, 1.0])\n",
    "plt.ylim([0.0, 1.0])\n",
    "plt.legend(loc='lower right')\n",
    "plt.xlabel('Recall')\n",
    "plt.ylabel('Precision')\n",
    "plt.title('PR Curves')\n",
    "plt.show()"
   ]
  },
  {
   "cell_type": "code",
   "execution_count": null,
   "id": "2af6cf74",
   "metadata": {},
   "outputs": [],
   "source": [
    "# ROC curve\n",
    "plt.figure(figsize=(8, 6))\n",
    "plt.plot(fpr_res152, tpr_res152, label=\"ResNet152 (area = {0:0.3f})\".format(roc_auc_res152))\n",
    "plt.plot(fpr_res34, tpr_res34, label=\"ResNet34 (area = {0:0.3f})\".format(roc_auc_res34))\n",
    "plt.plot(fpr_res18, tpr_res18, label=\"ResNet18 (area = {0:0.3f})\".format(roc_auc_res18))\n",
    "plt.plot(fpr_knn, tpr_knn, label=\"KNN (area = {0:0.3f})\".format(roc_auc_knn))\n",
    "plt.plot(fpr_rf, tpr_rf, label=\"RF (area = {0:0.3f})\".format(roc_auc_rf))\n",
    "plt.plot([0, 1], [0, 1], 'k--')\n",
    "plt.xlim([0.0, 1.0])\n",
    "plt.ylim([0.0, 1.0])\n",
    "plt.legend(loc='lower right')\n",
    "plt.xlabel('False Positive Rate')\n",
    "plt.ylabel('True Positive Rate')\n",
    "plt.title('ROC Curves')\n",
    "plt.show()"
   ]
  },
  {
   "cell_type": "markdown",
   "id": "ca313bdf",
   "metadata": {},
   "source": [
    "layers"
   ]
  },
  {
   "cell_type": "code",
   "execution_count": null,
   "id": "fcad816e",
   "metadata": {},
   "outputs": [],
   "source": [
    "# we will save the conv layer weights in this list\n",
    "model_weights =[]\n",
    "#we will save the 49 conv layers in this list\n",
    "conv_layers = []\n",
    "# get all the model children as list\n",
    "model_load = list(model_load.children())\n",
    "#counter to keep count of the conv layers\n",
    "counter = 0\n",
    "#append all the conv layers and their respective weights to the list\n",
    "for i in range(len(model_load)):\n",
    "    if type(model_load[i]) == nn.Conv2d:\n",
    "        counter+=1\n",
    "        model_weights.append(model_load[i].weight)\n",
    "        conv_layers.append(model_load[i])\n",
    "    elif type(model_load[i]) == nn.Sequential:\n",
    "        for j in range(len(model_load[i])):\n",
    "            for child in model_load[i][j].children():\n",
    "                if type(child) == nn.Conv2d:\n",
    "                    counter+=1\n",
    "                    model_weights.append(child.weight)\n",
    "                    conv_layers.append(child)\n",
    "print(f\"Total convolution layers: {counter}\")"
   ]
  },
  {
   "cell_type": "code",
   "execution_count": null,
   "id": "97137614",
   "metadata": {},
   "outputs": [],
   "source": [
    "data_dir = os.getcwd() + '/data2'\n",
    "image_dir = data_dir+'/test/edible/ncvc (395).jpg'\n",
    "from IPython.display import Image\n",
    "Image(image_dir)"
   ]
  },
  {
   "cell_type": "code",
   "execution_count": null,
   "id": "18254fa6",
   "metadata": {},
   "outputs": [],
   "source": [
    "from PIL import Image\n",
    "image = Image.open(image_dir)\n",
    "\n",
    "transform_image = transforms.Compose([\n",
    "    transforms.RandomResizedCrop(224),\n",
    "    transforms.RandomHorizontalFlip(),\n",
    "    transforms.ToTensor(),\n",
    "    transforms.Normalize([0.485, 0.456, 0.406], [0.229, 0.224, 0.225])\n",
    "    ])"
   ]
  },
  {
   "cell_type": "code",
   "execution_count": null,
   "id": "055820ec",
   "metadata": {},
   "outputs": [],
   "source": [
    "image = transform_image(image)\n",
    "print(f\"Image shape before: {image.shape}\")\n",
    "image = image.unsqueeze(0)\n",
    "print(f\"Image shape after: {image.shape}\")\n",
    "image = image.to(device)"
   ]
  },
  {
   "cell_type": "code",
   "execution_count": null,
   "id": "cb5a2170",
   "metadata": {},
   "outputs": [],
   "source": [
    "outputs = []\n",
    "names = []\n",
    "for layer in conv_layers[0:]:\n",
    "    image = layer(image)\n",
    "    outputs.append(image)\n",
    "    names.append(str(layer))"
   ]
  },
  {
   "cell_type": "code",
   "execution_count": null,
   "id": "f79f1673",
   "metadata": {},
   "outputs": [],
   "source": [
    "processed = []\n",
    "for feature_map in outputs:\n",
    "    feature_map = feature_map.squeeze(0)\n",
    "    gray_scale = torch.sum(feature_map,0)\n",
    "    gray_scale = gray_scale / feature_map.shape[0]\n",
    "    processed.append(gray_scale.data.cpu().numpy())"
   ]
  }
 ],
 "metadata": {
  "kernelspec": {
   "display_name": "Python 3 (ipykernel)",
   "language": "python",
   "name": "python3"
  },
  "language_info": {
   "codemirror_mode": {
    "name": "ipython",
    "version": 3
   },
   "file_extension": ".py",
   "mimetype": "text/x-python",
   "name": "python",
   "nbconvert_exporter": "python",
   "pygments_lexer": "ipython3",
   "version": "3.8.13"
  }
 },
 "nbformat": 4,
 "nbformat_minor": 5
}
