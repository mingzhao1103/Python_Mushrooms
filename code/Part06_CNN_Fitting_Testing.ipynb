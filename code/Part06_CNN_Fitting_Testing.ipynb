{
 "cells": [
  {
   "cell_type": "markdown",
   "id": "2c076526",
   "metadata": {},
   "source": [
    "resnet18"
   ]
  },
  {
   "cell_type": "code",
   "execution_count": null,
   "id": "5f3fb313",
   "metadata": {},
   "outputs": [],
   "source": [
    "# Quick note about ResNet: larger image dataset with 1M+ photos and 1K+ classes\n",
    "\n",
    "# TODO: also can try pretrained = False to retrain the resnet18 model from scratch\n",
    "# should be worse than the pretrained=True as ~3000 images are still considered as small data set\n",
    "model_ft = models.resnet18(pretrained=True)\n",
    "num_ftrs = model_ft.fc.in_features\n",
    "# Here the size of each output sample is set to 2.\n",
    "# Alternatively, it can be generalized to nn.Linear(num_ftrs, len(class_names)).\n",
    "model_ft.fc = nn.Linear(num_ftrs, 2)\n",
    "\n",
    "model_ft = model_ft.to(device)"
   ]
  },
  {
   "cell_type": "code",
   "execution_count": null,
   "id": "3681a290",
   "metadata": {},
   "outputs": [],
   "source": [
    "# TODO: could try another loss funciton, e.g. focal loss for classification\n",
    "criterion = nn.CrossEntropyLoss()\n",
    "\n",
    "# Observe that all parameters are being optimized\n",
    "# Note to use a relatively small starting learning rate, otherwise pretrained models weights are updated drastically\n",
    "# i.e. we do not benefit from the existing\n",
    "# TODO: could try another optimizer, e.g. Adam\n",
    "optimizer_ft = optim.SGD(model_ft.parameters(), lr=0.001, momentum=0.9)"
   ]
  },
  {
   "cell_type": "code",
   "execution_count": null,
   "id": "e49ba476",
   "metadata": {},
   "outputs": [],
   "source": [
    "# Decay LR by a factor of 0.1 every 7 epochs\n",
    "# TODO: could change lr_scheduler based on the epoch loss\n",
    "exp_lr_scheduler = lr_scheduler.StepLR(optimizer_ft, step_size=7, gamma=0.1)"
   ]
  },
  {
   "cell_type": "code",
   "execution_count": null,
   "id": "c54e8fbc",
   "metadata": {},
   "outputs": [],
   "source": [
    "# TODO: could increase the number of epochs\n",
    "model_ft_1, epoch_loss_1, epoch_acc_1, poison_identified_1, epoch_recall_1 = train_model(model_ft, criterion, optimizer_ft,exp_lr_scheduler,num_epochs=25)"
   ]
  },
  {
   "cell_type": "code",
   "execution_count": null,
   "id": "1cb1b241",
   "metadata": {},
   "outputs": [],
   "source": [
    "# Save the entire model\n",
    "# Specify a path\n",
    "PATH = \"entire_model_1.pt\""
   ]
  },
  {
   "cell_type": "code",
   "execution_count": null,
   "id": "1016c254",
   "metadata": {},
   "outputs": [],
   "source": [
    "# Save\n",
    "torch.save(model_ft_1, PATH)"
   ]
  },
  {
   "cell_type": "code",
   "execution_count": null,
   "id": "91c86ccc",
   "metadata": {},
   "outputs": [],
   "source": [
    "# Load\n",
    "# model = torch.load(PATH)\n",
    "# model.eval()"
   ]
  },
  {
   "cell_type": "code",
   "execution_count": null,
   "id": "22d2b591",
   "metadata": {},
   "outputs": [],
   "source": [
    "# from the numpy module\n",
    "np.savetxt(\"epoch_loss_18.csv\", \n",
    "           epoch_loss_1,\n",
    "           delimiter =\", \", \n",
    "           fmt ='% s')"
   ]
  },
  {
   "cell_type": "code",
   "execution_count": null,
   "id": "04421760",
   "metadata": {},
   "outputs": [],
   "source": [
    "# from the numpy module\n",
    "np.savetxt(\"epoch_acc_18.csv\", \n",
    "           epoch_acc_1,\n",
    "           delimiter =\", \", \n",
    "           fmt ='% s')"
   ]
  },
  {
   "cell_type": "code",
   "execution_count": null,
   "id": "9c26dc48",
   "metadata": {},
   "outputs": [],
   "source": [
    "# from the numpy module\n",
    "np.savetxt(\"epoch_recall_18.csv\", \n",
    "           epoch_recall_1,\n",
    "           delimiter =\", \", \n",
    "           fmt ='% s')"
   ]
  },
  {
   "cell_type": "markdown",
   "id": "ef725cd8",
   "metadata": {},
   "source": [
    "resnet34"
   ]
  },
  {
   "cell_type": "code",
   "execution_count": null,
   "id": "f77cee7f",
   "metadata": {},
   "outputs": [],
   "source": [
    "# resnet34\n",
    "model_ft = models.resnet34(pretrained=True)\n",
    "num_ftrs = model_ft.fc.in_features\n",
    "# Here the size of each output sample is set to 2.\n",
    "# Alternatively, it can be generalized to nn.Linear(num_ftrs, len(class_names)).\n",
    "model_ft.fc = nn.Linear(num_ftrs, 2)"
   ]
  },
  {
   "cell_type": "code",
   "execution_count": null,
   "id": "0c18c615",
   "metadata": {},
   "outputs": [],
   "source": [
    "model_ft = model_ft.to(device)"
   ]
  },
  {
   "cell_type": "code",
   "execution_count": null,
   "id": "da38242d",
   "metadata": {},
   "outputs": [],
   "source": [
    "criterion = nn.CrossEntropyLoss()\n",
    "optimizer_ft = optim.SGD(model_ft.parameters(), lr=0.001, momentum=0.9)\n",
    "# Decay LR by a factor of 0.1 every 7 epochs\n",
    "exp_lr_scheduler = lr_scheduler.StepLR(optimizer_ft, step_size=7, gamma=0.1)"
   ]
  },
  {
   "cell_type": "code",
   "execution_count": null,
   "id": "24b01d0a",
   "metadata": {},
   "outputs": [],
   "source": [
    "# TODO: could increase the number of epochs\n",
    "model_ft_2, epoch_loss_2, epoch_acc_2, poison_identified_2, epoch_recall_2 = train_model(model_ft, criterion, optimizer_ft,exp_lr_scheduler,num_epochs=25)\n",
    "\n",
    "# Save the entire model\n",
    "# Specify a path\n",
    "PATH = \"entire_model_net34.pt\""
   ]
  },
  {
   "cell_type": "code",
   "execution_count": null,
   "id": "56440700",
   "metadata": {},
   "outputs": [],
   "source": [
    "# Save\n",
    "torch.save(model_ft_2, PATH)"
   ]
  },
  {
   "cell_type": "code",
   "execution_count": null,
   "id": "9700a0ed",
   "metadata": {},
   "outputs": [],
   "source": [
    "# Load\n",
    "# model = torch.load(PATH)\n",
    "# model.eval()"
   ]
  },
  {
   "cell_type": "code",
   "execution_count": null,
   "id": "76f86cb7",
   "metadata": {},
   "outputs": [],
   "source": [
    "# from the numpy module\n",
    "np.savetxt(\"epoch_loss_34.csv\", \n",
    "           epoch_loss_2,\n",
    "           delimiter =\", \", \n",
    "           fmt ='% s')"
   ]
  },
  {
   "cell_type": "code",
   "execution_count": null,
   "id": "2ccc904f",
   "metadata": {},
   "outputs": [],
   "source": [
    "# from the numpy module\n",
    "np.savetxt(\"epoch_acc_34.csv\", \n",
    "           epoch_acc_2,\n",
    "           delimiter =\", \", \n",
    "           fmt ='% s')"
   ]
  },
  {
   "cell_type": "code",
   "execution_count": null,
   "id": "02f0484e",
   "metadata": {},
   "outputs": [],
   "source": [
    "# from the numpy module\n",
    "np.savetxt(\"epoch_recall_34.csv\", \n",
    "           epoch_recall_2,\n",
    "           delimiter =\", \", \n",
    "           fmt ='% s')"
   ]
  },
  {
   "cell_type": "markdown",
   "id": "15086552",
   "metadata": {},
   "source": [
    "resnet152"
   ]
  },
  {
   "cell_type": "code",
   "execution_count": null,
   "id": "c0113b04",
   "metadata": {},
   "outputs": [],
   "source": [
    "# resnet152\n",
    "model_ft = models.resnet152(pretrained=True)\n",
    "num_ftrs = model_ft.fc.in_features\n",
    "model_ft.fc = nn.Linear(num_ftrs, 2)\n",
    "\n",
    "model_ft = model_ft.to(device)\n",
    "\n",
    "criterion = nn.CrossEntropyLoss()\n",
    "optimizer_ft = optim.SGD(model_ft.parameters(), lr=0.001, momentum=0.9)\n",
    "# Decay LR by a factor of 0.1 every 7 epochs\n",
    "exp_lr_scheduler = lr_scheduler.StepLR(optimizer_ft, step_size=7, gamma=0.1)\n",
    "\n",
    "model_ft_3, epoch_loss_3, epoch_acc_3, poison_identified_3, epoch_recall_3 = train_model(model_ft, criterion,optimizer_ft,exp_lr_scheduler,num_epochs=25)"
   ]
  },
  {
   "cell_type": "code",
   "execution_count": null,
   "id": "061eeb83",
   "metadata": {},
   "outputs": [],
   "source": [
    "# Save the entire model\n",
    "# Specify a path\n",
    "PATH = \"entire_model_net152.pt\""
   ]
  },
  {
   "cell_type": "code",
   "execution_count": null,
   "id": "53e7fdfd",
   "metadata": {},
   "outputs": [],
   "source": [
    "# Save\n",
    "torch.save(model_ft_3, PATH)"
   ]
  },
  {
   "cell_type": "code",
   "execution_count": null,
   "id": "81ecc21f",
   "metadata": {},
   "outputs": [],
   "source": [
    "# Load\n",
    "# model = torch.load(PATH)\n",
    "# model.eval()"
   ]
  },
  {
   "cell_type": "code",
   "execution_count": null,
   "id": "0de3e56b",
   "metadata": {},
   "outputs": [],
   "source": [
    "# from the numpy module\n",
    "np.savetxt(\"epoch_loss_152.csv\", \n",
    "           epoch_loss_3,\n",
    "           delimiter =\", \", \n",
    "           fmt ='% s')"
   ]
  },
  {
   "cell_type": "code",
   "execution_count": null,
   "id": "5bfb28cd",
   "metadata": {},
   "outputs": [],
   "source": [
    "# from the numpy module\n",
    "np.savetxt(\"epoch_acc_152.csv\", \n",
    "           epoch_acc_3,\n",
    "           delimiter =\", \", \n",
    "           fmt ='% s')"
   ]
  },
  {
   "cell_type": "code",
   "execution_count": null,
   "id": "2d89f0ad",
   "metadata": {},
   "outputs": [],
   "source": [
    "# from the numpy module\n",
    "np.savetxt(\"epoch_recall_152.csv\", \n",
    "           epoch_recall_3,\n",
    "           delimiter =\", \", \n",
    "           fmt ='% s')"
   ]
  },
  {
   "cell_type": "code",
   "execution_count": null,
   "id": "a303b3d3",
   "metadata": {},
   "outputs": [],
   "source": []
  },
  {
   "cell_type": "code",
   "execution_count": null,
   "id": "5f5f4855",
   "metadata": {},
   "outputs": [],
   "source": [
    "visualize_model_test(model_ft_1, 6)\n",
    "visualize_model_test(model_ft_2, 6)\n",
    "visualize_model_test(model_ft_3, 6)\n",
    "\n",
    "test_acc_1 = test_model(model_ft_1)\n",
    "test_acc_2 = test_model(model_ft_2)\n",
    "test_acc_3 = test_model(model_ft_3)"
   ]
  }
 ],
 "metadata": {
  "kernelspec": {
   "display_name": "Python 3 (ipykernel)",
   "language": "python",
   "name": "python3"
  },
  "language_info": {
   "codemirror_mode": {
    "name": "ipython",
    "version": 3
   },
   "file_extension": ".py",
   "mimetype": "text/x-python",
   "name": "python",
   "nbconvert_exporter": "python",
   "pygments_lexer": "ipython3",
   "version": "3.8.13"
  }
 },
 "nbformat": 4,
 "nbformat_minor": 5
}
