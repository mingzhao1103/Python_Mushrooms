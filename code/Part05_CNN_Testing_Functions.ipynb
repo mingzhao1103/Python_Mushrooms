{
 "cells": [
  {
   "cell_type": "code",
   "execution_count": null,
   "id": "450ac730",
   "metadata": {},
   "outputs": [],
   "source": [
    "def test_model(model):\n",
    "    \"\"\"\n",
    "    This function apply trained model on test data. And return its prediction accuracuy\n",
    "    \"\"\"\n",
    "    was_training = model.training\n",
    "    model.eval()\n",
    "    running_corrects = 0\n",
    "\n",
    "    with torch.no_grad():\n",
    "        for i, (inputs, labels) in enumerate(dataloaders['test']):\n",
    "            inputs = inputs.to(device)\n",
    "            labels = labels.to(device)\n",
    "\n",
    "            outputs = model(inputs)\n",
    "            _, preds = torch.max(outputs, 1)\n",
    "            \n",
    "            running_corrects += torch.sum(preds == labels.data)\n",
    "            \n",
    "        test_acc = running_corrects.double() / dataset_sizes['test']\n",
    "        model.train(mode=was_training)\n",
    "    \n",
    "    return test_acc\n",
    "    \n",
    "    \n",
    "\n",
    "def test_model_recall(model):\n",
    "    \"\"\"\n",
    "    This function apply trained model on test data. And return its prediction accuracuy\n",
    "    \"\"\"\n",
    "    was_training = model.training\n",
    "    model.eval()\n",
    "    recall_corrects = 0\n",
    "    poison_sum = 0\n",
    "\n",
    "    with torch.no_grad():\n",
    "        for i, (inputs, labels) in enumerate(dataloaders['test']):\n",
    "            inputs = inputs.to(device)\n",
    "            labels = labels.to(device)\n",
    "\n",
    "            outputs = model(inputs)\n",
    "            _, preds = torch.max(outputs, 1)\n",
    "            \n",
    "            recall_corrects += torch.sum((preds == labels.data) * (labels.data == 1))\n",
    "            poison_sum += torch.sum(labels.data == 1)\n",
    "            \n",
    "        # test_recall = recall_corrects.double() / poison_sum  # For Nvidia GPU\n",
    "        test_recall = recall_corrects.float() / poison_sum  # For mac m1 chip\n",
    "        model.train(mode=was_training)\n",
    "    \n",
    "    return test_recall"
   ]
  }
 ],
 "metadata": {
  "kernelspec": {
   "display_name": "Python 3 (ipykernel)",
   "language": "python",
   "name": "python3"
  },
  "language_info": {
   "codemirror_mode": {
    "name": "ipython",
    "version": 3
   },
   "file_extension": ".py",
   "mimetype": "text/x-python",
   "name": "python",
   "nbconvert_exporter": "python",
   "pygments_lexer": "ipython3",
   "version": "3.8.13"
  }
 },
 "nbformat": 4,
 "nbformat_minor": 5
}
