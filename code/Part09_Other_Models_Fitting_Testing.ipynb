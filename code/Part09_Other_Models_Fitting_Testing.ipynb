{
 "cells": [
  {
   "cell_type": "code",
   "execution_count": null,
   "id": "36195895",
   "metadata": {},
   "outputs": [],
   "source": [
    "from sklearn.linear_model import LogisticRegression\n",
    "from sklearn.neighbors import KNeighborsClassifier\n",
    "from sklearn.ensemble import RandomForestClassifier\n",
    "\n",
    "from sklearn.model_selection import cross_val_score\n",
    "from sklearn.model_selection import GridSearchCV\n",
    "\n",
    "from sklearn.metrics import confusion_matrix\n",
    "\n",
    "from sklearn.metrics import precision_recall_curve\n",
    "\n",
    "import warnings\n",
    "warnings.filterwarnings(\"ignore\") "
   ]
  },
  {
   "cell_type": "code",
   "execution_count": null,
   "id": "68d05a55",
   "metadata": {},
   "outputs": [],
   "source": [
    "# transform data\n",
    "transform = {\n",
    "    'train': transforms.Compose([\n",
    "        transforms.RandomResizedCrop(224),\n",
    "        transforms.RandomHorizontalFlip(),\n",
    "        transforms.ToTensor(),\n",
    "        transforms.Normalize([0.485, 0.456, 0.406], [0.229, 0.224, 0.225])\n",
    "    ]),\n",
    "    'test': transforms.Compose([\n",
    "        transforms.Resize(256),\n",
    "        transforms.CenterCrop(224),\n",
    "        transforms.ToTensor(),\n",
    "        transforms.Normalize([0.485, 0.456, 0.406], [0.229, 0.224, 0.225])\n",
    "    ])\n",
    "}\n",
    "\n",
    "# obtain working directory\n",
    "dataset_dir = os.getcwd() + '/data3'\n",
    "\n",
    "# create dataset\n",
    "data = {x: datasets.ImageFolder(os.path.join(dataset_dir, x), transform[x])\n",
    "                  for x in ['train', 'test']}"
   ]
  },
  {
   "cell_type": "code",
   "execution_count": null,
   "id": "65fc5f57",
   "metadata": {},
   "outputs": [],
   "source": [
    "# obtain train and test sets\n",
    "train = data['train']\n",
    "test = data['test']\n",
    "\n",
    "# obtain X and y in train set\n",
    "X_train = torch.stack([img_t for img_t, _ in train], dim=0)\n",
    "X_train = X_train.numpy()\n",
    "\n",
    "y_train = np.empty(0)\n",
    "y_train = np.append(y_train, [lab_t for _, lab_t in train])\n",
    "\n",
    "# obtain X and y in test set\n",
    "X_test = torch.stack([img_t for img_t, _ in test], dim=0)\n",
    "X_test = X_test.numpy()\n",
    "\n",
    "y_test = np.empty(0)\n",
    "y_test = np.append(y_test, [lab_t for _, lab_t in test])"
   ]
  },
  {
   "cell_type": "code",
   "execution_count": null,
   "id": "1c79daf8",
   "metadata": {},
   "outputs": [],
   "source": [
    "print(X_train.shape)\n",
    "print(X_test.shape)"
   ]
  },
  {
   "cell_type": "code",
   "execution_count": null,
   "id": "f1bc4257",
   "metadata": {},
   "outputs": [],
   "source": [
    "# reshape to 2D from 4D\n",
    "X_train = np.reshape(X_train, (X_train.shape[0], -1))\n",
    "X_test = np.reshape(X_test, (X_test.shape[0], -1))"
   ]
  },
  {
   "cell_type": "code",
   "execution_count": null,
   "id": "f66269ad",
   "metadata": {},
   "outputs": [],
   "source": [
    "print(X_train.shape)"
   ]
  },
  {
   "cell_type": "code",
   "execution_count": null,
   "id": "7bbd64a6",
   "metadata": {},
   "outputs": [],
   "source": [
    "# check labels\n",
    "class_names = train.classes\n",
    "train.class_to_idx"
   ]
  },
  {
   "cell_type": "code",
   "execution_count": null,
   "id": "8e7cd4fb",
   "metadata": {},
   "outputs": [],
   "source": [
    "# Logistic regression\n",
    "classifier_logistic = LogisticRegression()\n",
    "classifier_logistic.fit(X_train, y_train)\n",
    "\n",
    "# K Nearest Neighbors\n",
    "classifier_KNN = KNeighborsClassifier()\n",
    "classifier_KNN.fit(X_train, y_train)\n",
    "\n",
    "# Random Forest\n",
    "classifier_RF = RandomForestClassifier()\n",
    "classifier_RF.fit(X_train, y_train)"
   ]
  },
  {
   "cell_type": "code",
   "execution_count": null,
   "id": "c4dfdfec",
   "metadata": {},
   "outputs": [],
   "source": [
    "# use 5-fold Cross Validation\n",
    "model_names = ['Logistic Regression','KNN','Random Forest']\n",
    "model_list = [classifier_logistic, classifier_KNN, classifier_RF]\n",
    "\n",
    "count = 0\n",
    "for classifier in model_list:\n",
    "    cv_score = cross_val_score(classifier, X_train, y_train, cv=5)\n",
    "    print(cv_score.round(3))\n",
    "    print('Model accuracy of ' + model_names[count] + ' is ' + str(cv_score.mean().round(3)))\n",
    "    count += 1"
   ]
  }
 ],
 "metadata": {
  "kernelspec": {
   "display_name": "Python 3 (ipykernel)",
   "language": "python",
   "name": "python3"
  },
  "language_info": {
   "codemirror_mode": {
    "name": "ipython",
    "version": 3
   },
   "file_extension": ".py",
   "mimetype": "text/x-python",
   "name": "python",
   "nbconvert_exporter": "python",
   "pygments_lexer": "ipython3",
   "version": "3.8.13"
  }
 },
 "nbformat": 4,
 "nbformat_minor": 5
}
