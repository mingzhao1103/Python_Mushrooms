{
 "cells": [
  {
   "cell_type": "code",
   "execution_count": null,
   "id": "6c169ff7",
   "metadata": {},
   "outputs": [],
   "source": [
    "def cal_evaluation(classifier, conf_matrix):\n",
    "    tn = conf_matrix[0][0]\n",
    "    fp = conf_matrix[0][1]\n",
    "    fn = conf_matrix[1][0]\n",
    "    tp = conf_matrix[1][1]\n",
    "    accuracy  = (tp + tn) / (tp + fp + fn + tn + 0.0)\n",
    "    precision = tp / (tp + fp + 0.0)\n",
    "    recall = tp / (tp + fn + 0.0)\n",
    "    print ()\n",
    "    print (classifier)\n",
    "    print (\"Accuracy is: \" + str(accuracy.round(3)))\n",
    "    print (\"precision is: \" + str(precision.round(3)))\n",
    "    print (\"recall is: \" + str(recall.round(3)))"
   ]
  },
  {
   "cell_type": "code",
   "execution_count": null,
   "id": "88e5e52b",
   "metadata": {},
   "outputs": [],
   "source": [
    "# CNN predicted classes\n",
    "cnn_preds = np.empty(0)\n",
    "cnn_true = np.empty(0)\n",
    "with torch.no_grad():\n",
    "    for i, (inputs, classes) in enumerate(dataloaders['test']):\n",
    "        inputs = inputs.to(device)\n",
    "        classes = classes.to(device)\n",
    "        outputs = model_ft(inputs)\n",
    "        _, preds = torch.max(outputs, 1)\n",
    "        for t, p in zip(classes, preds):\n",
    "            cnn_preds = np.append(cnn_preds, p.cpu().detach().numpy())\n",
    "            cnn_true = np.append(cnn_true, t.cpu().detach().numpy())"
   ]
  },
  {
   "cell_type": "code",
   "execution_count": null,
   "id": "8ff8b067",
   "metadata": {},
   "outputs": [],
   "source": [
    "# Confusion matrix\n",
    "cm_cnn = confusion_matrix(cnn_true, cnn_preds)\n",
    "cm_lr = confusion_matrix(y_test, classifier_logistic.predict(X_test))\n",
    "cm_knn = confusion_matrix(y_test, classifier_KNN.predict(X_test))\n",
    "cm_rf = confusion_matrix(y_test, classifier_RF.predict(X_test))"
   ]
  },
  {
   "cell_type": "code",
   "execution_count": null,
   "id": "7a1173b9",
   "metadata": {},
   "outputs": [],
   "source": [
    "confusion_matrices = [\n",
    "    (\"CNN\", cm_cnn),\n",
    "    (\"Logistic Regression\", cm_lr),\n",
    "    (\"KNN\", cm_knn),\n",
    "    (\"Random Forest\", cm_rf)\n",
    "]\n",
    "\n",
    "for element in confusion_matrices:\n",
    "    classifier, conf_matrix = element[0], element[1]\n",
    "    cal_evaluation(classifier, conf_matrix)"
   ]
  },
  {
   "cell_type": "code",
   "execution_count": null,
   "id": "a5393aff",
   "metadata": {},
   "outputs": [],
   "source": [
    "# logistic regression\n",
    "lr_y_pred_prob = classifier_logistic.predict_proba(X_test)[:,1] \n",
    "precision_lr, recall_lr, _ = precision_recall_curve(y_test, lr_y_pred_prob)"
   ]
  },
  {
   "cell_type": "code",
   "execution_count": null,
   "id": "737bb113",
   "metadata": {},
   "outputs": [],
   "source": [
    "# KNN\n",
    "knn_y_pred_prob = classifier_KNN.predict_proba(X_test)[:,1]\n",
    "precision_knn, recall_knn, _ = precision_recall_curve(y_test, knn_y_pred_prob)\n",
    "pr_auc_knn = auc(recall_knn, precision_knn)\n",
    "# ROC\n",
    "fpr_knn, tpr_knn, _ = roc_curve(y_test.numpy(), knn_y_pred_prob)\n",
    "# area under curve\n",
    "roc_auc_knn = auc(fpr_knn, tpr_knn)"
   ]
  },
  {
   "cell_type": "code",
   "execution_count": null,
   "id": "a2f5cd48",
   "metadata": {},
   "outputs": [],
   "source": [
    "# random forest\n",
    "rf_y_pred_prob = classifier_RF.predict_proba(X_test)[:,1]\n",
    "precision_rf, recall_rf, _ = precision_recall_curve(y_test, rf_y_pred_prob)\n",
    "# area under curve\n",
    "pr_auc_rf = auc(recall_rf, precision_rf)\n",
    "# ROC\n",
    "fpr_rf, tpr_rf, _ = roc_curve(y_test.numpy(), rf_y_pred_prob)\n",
    "# area under curve\n",
    "roc_auc_rf = auc(fpr_rf, tpr_rf)"
   ]
  },
  {
   "cell_type": "code",
   "execution_count": null,
   "id": "5b79d0d1",
   "metadata": {},
   "outputs": [],
   "source": [
    "# PR Curve\n",
    "plt.figure(figsize=(8, 6))\n",
    "plt.plot(recall_lr, precision_lr, label=\"LR\")\n",
    "plt.plot(recall_knn, precision_knn, label=\"KNN\")\n",
    "plt.plot(recall_rf, precision_rf, label=\"RF\")\n",
    "\n",
    "plt.xlim([0.0, 1.0])\n",
    "plt.ylim([0.0, 1.0])\n",
    "plt.legend(loc='lower right')\n",
    "plt.xlabel('Recall')\n",
    "plt.ylabel('Precision')\n",
    "plt.title('PR Curves')\n",
    "plt.show()"
   ]
  }
 ],
 "metadata": {
  "kernelspec": {
   "display_name": "Python 3 (ipykernel)",
   "language": "python",
   "name": "python3"
  },
  "language_info": {
   "codemirror_mode": {
    "name": "ipython",
    "version": 3
   },
   "file_extension": ".py",
   "mimetype": "text/x-python",
   "name": "python",
   "nbconvert_exporter": "python",
   "pygments_lexer": "ipython3",
   "version": "3.8.13"
  }
 },
 "nbformat": 4,
 "nbformat_minor": 5
}
